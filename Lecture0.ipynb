{
  "nbformat": 4,
  "nbformat_minor": 0,
  "metadata": {
    "colab": {
      "provenance": [],
      "authorship_tag": "ABX9TyM/r2EXR7wAgR1Mxi7LGgKP",
      "include_colab_link": true
    },
    "kernelspec": {
      "name": "python3",
      "display_name": "Python 3"
    },
    "language_info": {
      "name": "python"
    }
  },
  "cells": [
    {
      "cell_type": "markdown",
      "metadata": {
        "id": "view-in-github",
        "colab_type": "text"
      },
      "source": [
        "<a href=\"https://colab.research.google.com/github/Paspachu/Automation/blob/main/Lecture0.ipynb\" target=\"_parent\"><img src=\"https://colab.research.google.com/assets/colab-badge.svg\" alt=\"Open In Colab\"/></a>"
      ]
    },
    {
      "cell_type": "markdown",
      "source": [
        "***Search Algoritms***\n",
        "\n",
        "Terminology\n",
        "- agent\n",
        "- state\n",
        "- initial state\n",
        "- actions\n",
        "- transition model\n",
        "- state space\n",
        "\n"
      ],
      "metadata": {
        "id": "XRDjjlYGvDju"
      }
    },
    {
      "cell_type": "code",
      "execution_count": null,
      "metadata": {
        "id": "XBr8hIuau0K1"
      },
      "outputs": [],
      "source": []
    }
  ]
}